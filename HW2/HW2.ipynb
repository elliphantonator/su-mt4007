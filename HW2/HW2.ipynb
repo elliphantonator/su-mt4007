{
 "cells": [
  {
   "cell_type": "markdown",
   "id": "e471887a-2b83-4a33-aac9-4441cbaac278",
   "metadata": {},
   "source": [
    "# Homework 2"
   ]
  },
  {
   "cell_type": "code",
   "execution_count": 100,
   "id": "0e59565c-ea51-4ab7-a412-fd5040ef1d30",
   "metadata": {},
   "outputs": [],
   "source": [
    "import pandas as pd \n",
    "import matplotlib.pyplot as plt"
   ]
  },
  {
   "cell_type": "markdown",
   "id": "00c18f78-17fb-4158-a511-b113277f0d2f",
   "metadata": {},
   "source": [
    "## Apartment prices"
   ]
  },
  {
   "cell_type": "code",
   "execution_count": 27,
   "id": "48d22377-c2e4-4863-8588-4f855df954de",
   "metadata": {},
   "outputs": [],
   "source": [
    "df_booli = pd.read_csv(\"https://raw.githubusercontent.com/su-mt4007/data/refs/heads/main/Booli_sold.csv\")"
   ]
  },
  {
   "cell_type": "markdown",
   "id": "3acba784-72bf-4b38-9868-cd733f4a441e",
   "metadata": {},
   "source": [
    "First we calculate the price per square meter."
   ]
  },
  {
   "cell_type": "code",
   "execution_count": 38,
   "id": "a8bee553-d6f2-43d8-b28a-5d480e4a67dc",
   "metadata": {},
   "outputs": [],
   "source": [
    "ppsqm = df_booli[\"soldPrice\"] / df_booli[\"livingArea\"] \n",
    "df_booli[\"ppsqm\"] = ppsqm"
   ]
  },
  {
   "cell_type": "markdown",
   "id": "90ba0483-74ec-4d75-adc1-2fcc9734f451",
   "metadata": {},
   "source": [
    "Then we rank the five most expensive apartments with regard to ppsqm. "
   ]
  },
  {
   "cell_type": "code",
   "execution_count": 45,
   "id": "921b700d-072c-4728-8cea-f69ab1283b93",
   "metadata": {},
   "outputs": [
    {
     "data": {
      "text/html": [
       "<div>\n",
       "<style scoped>\n",
       "    .dataframe tbody tr th:only-of-type {\n",
       "        vertical-align: middle;\n",
       "    }\n",
       "\n",
       "    .dataframe tbody tr th {\n",
       "        vertical-align: top;\n",
       "    }\n",
       "\n",
       "    .dataframe thead th {\n",
       "        text-align: right;\n",
       "    }\n",
       "</style>\n",
       "<table border=\"1\" class=\"dataframe\">\n",
       "  <thead>\n",
       "    <tr style=\"text-align: right;\">\n",
       "      <th></th>\n",
       "      <th>livingArea</th>\n",
       "      <th>soldPrice</th>\n",
       "      <th>ppsqm</th>\n",
       "    </tr>\n",
       "  </thead>\n",
       "  <tbody>\n",
       "    <tr>\n",
       "      <th>67</th>\n",
       "      <td>24.0</td>\n",
       "      <td>2500000</td>\n",
       "      <td>104166.666667</td>\n",
       "    </tr>\n",
       "    <tr>\n",
       "      <th>50</th>\n",
       "      <td>24.0</td>\n",
       "      <td>2450000</td>\n",
       "      <td>102083.333333</td>\n",
       "    </tr>\n",
       "    <tr>\n",
       "      <th>54</th>\n",
       "      <td>23.0</td>\n",
       "      <td>2300000</td>\n",
       "      <td>100000.000000</td>\n",
       "    </tr>\n",
       "    <tr>\n",
       "      <th>34</th>\n",
       "      <td>25.0</td>\n",
       "      <td>2210000</td>\n",
       "      <td>88400.000000</td>\n",
       "    </tr>\n",
       "    <tr>\n",
       "      <th>55</th>\n",
       "      <td>26.9</td>\n",
       "      <td>2300000</td>\n",
       "      <td>85501.858736</td>\n",
       "    </tr>\n",
       "  </tbody>\n",
       "</table>\n",
       "</div>"
      ],
      "text/plain": [
       "    livingArea  soldPrice          ppsqm\n",
       "67        24.0    2500000  104166.666667\n",
       "50        24.0    2450000  102083.333333\n",
       "54        23.0    2300000  100000.000000\n",
       "34        25.0    2210000   88400.000000\n",
       "55        26.9    2300000   85501.858736"
      ]
     },
     "execution_count": 45,
     "metadata": {},
     "output_type": "execute_result"
    }
   ],
   "source": [
    "relevant_df_booli = df_booli[[\"livingArea\", \"soldPrice\", \"ppsqm\"]]\n",
    "sorted_df_booli = relevant_df_booli.sort_values(\"ppsqm\", ascending = False)\n",
    "sorted_df_booli.head()"
   ]
  },
  {
   "cell_type": "markdown",
   "id": "e4dc6f87-3d62-4bd1-8f8f-b6e2f28e78b2",
   "metadata": {},
   "source": [
    "Now we calculate the average ppsqm. "
   ]
  },
  {
   "cell_type": "code",
   "execution_count": 68,
   "id": "753d9e97-095b-49c9-bdcc-8ea679a951ee",
   "metadata": {},
   "outputs": [
    {
     "data": {
      "text/plain": [
       "58759.382760081724"
      ]
     },
     "execution_count": 68,
     "metadata": {},
     "output_type": "execute_result"
    }
   ],
   "source": [
    "relevant_df_booli.mean(axis = 0)[\"ppsqm\"]"
   ]
  },
  {
   "cell_type": "code",
   "execution_count": 119,
   "id": "f6b924da-bf5a-4869-989f-69f127e96b07",
   "metadata": {},
   "outputs": [
    {
     "data": {
      "text/html": [
       "<div>\n",
       "<style scoped>\n",
       "    .dataframe tbody tr th:only-of-type {\n",
       "        vertical-align: middle;\n",
       "    }\n",
       "\n",
       "    .dataframe tbody tr th {\n",
       "        vertical-align: top;\n",
       "    }\n",
       "\n",
       "    .dataframe thead th {\n",
       "        text-align: right;\n",
       "    }\n",
       "</style>\n",
       "<table border=\"1\" class=\"dataframe\">\n",
       "  <thead>\n",
       "    <tr style=\"text-align: right;\">\n",
       "      <th></th>\n",
       "      <th>livingArea</th>\n",
       "      <th>soldPrice</th>\n",
       "      <th>ppsqm</th>\n",
       "    </tr>\n",
       "  </thead>\n",
       "  <tbody>\n",
       "    <tr>\n",
       "      <th>67</th>\n",
       "      <td>24.0</td>\n",
       "      <td>2500000</td>\n",
       "      <td>104166.666667</td>\n",
       "    </tr>\n",
       "    <tr>\n",
       "      <th>50</th>\n",
       "      <td>24.0</td>\n",
       "      <td>2450000</td>\n",
       "      <td>102083.333333</td>\n",
       "    </tr>\n",
       "    <tr>\n",
       "      <th>54</th>\n",
       "      <td>23.0</td>\n",
       "      <td>2300000</td>\n",
       "      <td>100000.000000</td>\n",
       "    </tr>\n",
       "    <tr>\n",
       "      <th>34</th>\n",
       "      <td>25.0</td>\n",
       "      <td>2210000</td>\n",
       "      <td>88400.000000</td>\n",
       "    </tr>\n",
       "    <tr>\n",
       "      <th>55</th>\n",
       "      <td>26.9</td>\n",
       "      <td>2300000</td>\n",
       "      <td>85501.858736</td>\n",
       "    </tr>\n",
       "    <tr>\n",
       "      <th>...</th>\n",
       "      <td>...</td>\n",
       "      <td>...</td>\n",
       "      <td>...</td>\n",
       "    </tr>\n",
       "    <tr>\n",
       "      <th>93</th>\n",
       "      <td>91.0</td>\n",
       "      <td>3570000</td>\n",
       "      <td>39230.769231</td>\n",
       "    </tr>\n",
       "    <tr>\n",
       "      <th>141</th>\n",
       "      <td>69.0</td>\n",
       "      <td>2570000</td>\n",
       "      <td>37246.376812</td>\n",
       "    </tr>\n",
       "    <tr>\n",
       "      <th>146</th>\n",
       "      <td>98.0</td>\n",
       "      <td>3500000</td>\n",
       "      <td>35714.285714</td>\n",
       "    </tr>\n",
       "    <tr>\n",
       "      <th>151</th>\n",
       "      <td>63.0</td>\n",
       "      <td>2250000</td>\n",
       "      <td>35714.285714</td>\n",
       "    </tr>\n",
       "    <tr>\n",
       "      <th>102</th>\n",
       "      <td>NaN</td>\n",
       "      <td>3135000</td>\n",
       "      <td>NaN</td>\n",
       "    </tr>\n",
       "  </tbody>\n",
       "</table>\n",
       "<p>158 rows × 3 columns</p>\n",
       "</div>"
      ],
      "text/plain": [
       "     livingArea  soldPrice          ppsqm\n",
       "67         24.0    2500000  104166.666667\n",
       "50         24.0    2450000  102083.333333\n",
       "54         23.0    2300000  100000.000000\n",
       "34         25.0    2210000   88400.000000\n",
       "55         26.9    2300000   85501.858736\n",
       "..          ...        ...            ...\n",
       "93         91.0    3570000   39230.769231\n",
       "141        69.0    2570000   37246.376812\n",
       "146        98.0    3500000   35714.285714\n",
       "151        63.0    2250000   35714.285714\n",
       "102         NaN    3135000            NaN\n",
       "\n",
       "[158 rows x 3 columns]"
      ]
     },
     "execution_count": 119,
     "metadata": {},
     "output_type": "execute_result"
    }
   ],
   "source": [
    "sorted_df_booli"
   ]
  },
  {
   "cell_type": "markdown",
   "id": "bbfa662d-69b3-49b6-be2e-29ab15c07fc7",
   "metadata": {},
   "source": [
    "Lastly, we note that the ppsqm seems to be lower for larger apartments. "
   ]
  },
  {
   "cell_type": "code",
   "execution_count": null,
   "id": "cb1db1a4-192e-4ee3-9e6f-a54f4aa71cb3",
   "metadata": {},
   "outputs": [],
   "source": [
    "##"
   ]
  }
 ],
 "metadata": {
  "kernelspec": {
   "display_name": "Python 3 (ipykernel)",
   "language": "python",
   "name": "python3"
  },
  "language_info": {
   "codemirror_mode": {
    "name": "ipython",
    "version": 3
   },
   "file_extension": ".py",
   "mimetype": "text/x-python",
   "name": "python",
   "nbconvert_exporter": "python",
   "pygments_lexer": "ipython3",
   "version": "3.12.7"
  }
 },
 "nbformat": 4,
 "nbformat_minor": 5
}

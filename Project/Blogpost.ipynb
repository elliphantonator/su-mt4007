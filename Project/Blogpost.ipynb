{
 "cells": [
  {
   "cell_type": "markdown",
   "id": "86e6e3d7-9ad0-430c-bf6e-a8cc85395548",
   "metadata": {},
   "source": [
    "# What's that smell?"
   ]
  },
  {
   "cell_type": "markdown",
   "id": "a96725bc-e4f6-4636-952c-87e6de7f481f",
   "metadata": {},
   "source": [
    "## Abstract"
   ]
  },
  {
   "cell_type": "markdown",
   "id": "67488ba3-1fba-4718-a251-ca7208243083",
   "metadata": {},
   "source": [
    "In this blog post, the general public will find a few simple visualization of perfumes' main accords and notes. It includes a specific note and its frequency over the years as well as some bar chart races that show perfume trends over the years (cumulative). In addition, one can also find out which perfumers are best rated. In order to achieve these visuals, data cleaning and Python packages Pandas, Seaborn and Bar Chart Race have been utilized. "
   ]
  },
  {
   "cell_type": "markdown",
   "id": "9a7d6662-17c5-4723-8037-46a00b3bbaad",
   "metadata": {},
   "source": [
    "## Introduction"
   ]
  },
  {
   "cell_type": "markdown",
   "id": "03df423a-073b-4715-a16c-85027cb3f093",
   "metadata": {},
   "source": [
    "Remember when you were little and could smell an article of clothing and tell the teacher which classmate had forgotten their jumper? No? Huh, maybe that was just me then. I have always had a sensitive sense of smell so when this project was announced I immediately started looking for a thorough \"Perfume Data Set\" and luckily found one. The goal was then to clean the data and investigate if one of my personal least favorite notes was on the decline. I quickly had my answer and decided to also display - for your viewing pleasure, dear reader - the fragrance trends over the years as well as the top rated perfumers. "
   ]
  },
  {
   "cell_type": "markdown",
   "id": "eb70d224-bf64-42f1-8bcf-5ab5181ed5bd",
   "metadata": {},
   "source": [
    "## Data"
   ]
  },
  {
   "cell_type": "markdown",
   "id": "a98f30b1-1054-48c9-ae65-a1e8d3486839",
   "metadata": {},
   "source": [
    "The data used in this project was scraped from Parfumo.com and can be found on [Kaggle](https://www.kaggle.com/datasets/olgagmiufana1/parfumo-fragrance-dataset?resource=download&select=parfumo_datos.csv). The data set consists of Name, Brand, Release Year, Concentration, Rating Value, Rating Count, Main Accords, Top Notes, Middle Notes, Base Notes, Perfumers and URL. As the data contains a great amount of rows, missing values were simply dropped. Furthermore, filling in values in a note column or a rating column would distort the data and since we are looking at trends it would not do us much good. Cleaning the data also included removing a number, release year and brand name from the Name column, dropping some rows without numerical values in the Rating Count column, removing the word \"Ratings\" from the Ratings Count column and turning Rating Count and Rating Value into number data types."
   ]
  },
  {
   "cell_type": "markdown",
   "id": "52813376-111c-476e-98eb-38488e6b8f7b",
   "metadata": {},
   "source": [
    "## Results "
   ]
  },
  {
   "cell_type": "markdown",
   "id": "00b2cfa0-a802-4e5a-9640-d2513f551f21",
   "metadata": {},
   "source": [
    "### Coconut "
   ]
  },
  {
   "cell_type": "markdown",
   "id": "b2f67cb3-fa88-47d3-b12b-c4e9a3e359c0",
   "metadata": {},
   "source": [
    "Coconut - arguably the most nauseating smell available in a bottle. A \"Coconut finding\"-function was defined whose purpose was to return 1 if coconut was found and 0 otherwise. It was applied to the accords and notes columns in a subset of the data (consisting of the Name, Rating Value, Release Year, Main Accords, Top Notes, Middle Notes and Base Notes). The number of perfumes were grouped by release year and summed and a bar plot was made including the years the number of coconut perfumes were greater than zero. ![Alt Text](image_path_or_url)\n"
   ]
  },
  {
   "cell_type": "markdown",
   "id": "101deb05-f6bd-4502-b193-e7ec2ce01f86",
   "metadata": {},
   "source": [
    "### Trends"
   ]
  },
  {
   "cell_type": "markdown",
   "id": "69985cf9-cd66-4adf-a7f2-ed16a3917b19",
   "metadata": {},
   "source": [
    "### Perfumers"
   ]
  },
  {
   "cell_type": "code",
   "execution_count": null,
   "id": "335031df-c0e0-4c6b-a317-02446a59aaa5",
   "metadata": {},
   "outputs": [],
   "source": []
  }
 ],
 "metadata": {
  "kernelspec": {
   "display_name": "Python 3 (ipykernel)",
   "language": "python",
   "name": "python3"
  },
  "language_info": {
   "codemirror_mode": {
    "name": "ipython",
    "version": 3
   },
   "file_extension": ".py",
   "mimetype": "text/x-python",
   "name": "python",
   "nbconvert_exporter": "python",
   "pygments_lexer": "ipython3",
   "version": "3.12.3"
  }
 },
 "nbformat": 4,
 "nbformat_minor": 5
}

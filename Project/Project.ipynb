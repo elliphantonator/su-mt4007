{
 "cells": [
  {
   "cell_type": "markdown",
   "id": "ff4da424-5225-46f2-a8ec-0fba1dafc1a1",
   "metadata": {},
   "source": [
    "Vermont - State patrol. Standardized stop data. \n",
    "Army clock.\n",
    "\n",
    "Hypothesis: The later the hour, the more poc get stopped. "
   ]
  },
  {
   "cell_type": "code",
   "execution_count": 120,
   "id": "3091815b-a5ee-4acb-a938-a1a657675e6b",
   "metadata": {},
   "outputs": [],
   "source": [
    "import pandas as pd \n",
    "import seaborn as sns \n",
    "import matplotlib.pyplot as plt \n",
    "import numpy as np\n",
    "import sqlite3 as sql\n",
    "import re\n",
    "import datetime"
   ]
  },
  {
   "cell_type": "code",
   "execution_count": 121,
   "id": "2c101aa8-b095-458a-acfd-d477a916fa39",
   "metadata": {},
   "outputs": [],
   "source": [
    "vermont_all = pd.read_csv('https://raw.githubusercontent.com/elliphantonator/su-mt4007/refs/heads/main/Project/Vermont.csv')"
   ]
  },
  {
   "cell_type": "code",
   "execution_count": 122,
   "id": "6ec4f975-a4ba-4ce2-b33f-ec163c198961",
   "metadata": {},
   "outputs": [
    {
     "data": {
      "text/html": [
       "<div>\n",
       "<style scoped>\n",
       "    .dataframe tbody tr th:only-of-type {\n",
       "        vertical-align: middle;\n",
       "    }\n",
       "\n",
       "    .dataframe tbody tr th {\n",
       "        vertical-align: top;\n",
       "    }\n",
       "\n",
       "    .dataframe thead th {\n",
       "        text-align: right;\n",
       "    }\n",
       "</style>\n",
       "<table border=\"1\" class=\"dataframe\">\n",
       "  <thead>\n",
       "    <tr style=\"text-align: right;\">\n",
       "      <th></th>\n",
       "      <th>counter</th>\n",
       "    </tr>\n",
       "    <tr>\n",
       "      <th>subject_race</th>\n",
       "      <th></th>\n",
       "    </tr>\n",
       "  </thead>\n",
       "  <tbody>\n",
       "    <tr>\n",
       "      <th>asian/pacific islander</th>\n",
       "      <td>3607</td>\n",
       "    </tr>\n",
       "    <tr>\n",
       "      <th>black</th>\n",
       "      <td>5741</td>\n",
       "    </tr>\n",
       "    <tr>\n",
       "      <th>hispanic</th>\n",
       "      <td>2625</td>\n",
       "    </tr>\n",
       "    <tr>\n",
       "      <th>other</th>\n",
       "      <td>280</td>\n",
       "    </tr>\n",
       "    <tr>\n",
       "      <th>unknown</th>\n",
       "      <td>833</td>\n",
       "    </tr>\n",
       "    <tr>\n",
       "      <th>white</th>\n",
       "      <td>266216</td>\n",
       "    </tr>\n",
       "  </tbody>\n",
       "</table>\n",
       "</div>"
      ],
      "text/plain": [
       "                        counter\n",
       "subject_race                   \n",
       "asian/pacific islander     3607\n",
       "black                      5741\n",
       "hispanic                   2625\n",
       "other                       280\n",
       "unknown                     833\n",
       "white                    266216"
      ]
     },
     "execution_count": 122,
     "metadata": {},
     "output_type": "execute_result"
    }
   ],
   "source": [
    "vermont_all['hour'] = pd.to_datetime(vermont_all['time'], format = '%H:%M:%S').dt.hour\n",
    "relevant_vermont = vermont_all[['hour', 'subject_age', 'subject_race', 'subject_sex']].copy()\n",
    "relevant_vermont['counter'] = 1 \n",
    "relevant_vermont[['subject_race', 'counter']].groupby('subject_race').sum().head(10)"
   ]
  },
  {
   "cell_type": "markdown",
   "id": "8c73b86f-3a5d-4ca0-85eb-60791361d1a2",
   "metadata": {},
   "source": [
    "Clean the data set by dropping rows where suject_race == unknown. If subject_race == other it counts as a poc since white people are the only non-pocs. "
   ]
  },
  {
   "cell_type": "code",
   "execution_count": 124,
   "id": "689da5fc-5a24-4dcf-873a-e89bcc7e4b96",
   "metadata": {},
   "outputs": [],
   "source": [
    "relevant_vermont = relevant_vermont.replace('unknown', np.nan).dropna()"
   ]
  },
  {
   "cell_type": "code",
   "execution_count": 137,
   "id": "1f87a639-9699-4fb9-be8b-78ce4a1d2786",
   "metadata": {},
   "outputs": [
    {
     "data": {
      "text/html": [
       "<div>\n",
       "<style scoped>\n",
       "    .dataframe tbody tr th:only-of-type {\n",
       "        vertical-align: middle;\n",
       "    }\n",
       "\n",
       "    .dataframe tbody tr th {\n",
       "        vertical-align: top;\n",
       "    }\n",
       "\n",
       "    .dataframe thead th {\n",
       "        text-align: right;\n",
       "    }\n",
       "</style>\n",
       "<table border=\"1\" class=\"dataframe\">\n",
       "  <thead>\n",
       "    <tr style=\"text-align: right;\">\n",
       "      <th></th>\n",
       "      <th></th>\n",
       "      <th>counter</th>\n",
       "    </tr>\n",
       "    <tr>\n",
       "      <th>hour</th>\n",
       "      <th>subject_race</th>\n",
       "      <th></th>\n",
       "    </tr>\n",
       "  </thead>\n",
       "  <tbody>\n",
       "    <tr>\n",
       "      <th rowspan=\"5\" valign=\"top\">0</th>\n",
       "      <th>asian/pacific islander</th>\n",
       "      <td>211</td>\n",
       "    </tr>\n",
       "    <tr>\n",
       "      <th>black</th>\n",
       "      <td>357</td>\n",
       "    </tr>\n",
       "    <tr>\n",
       "      <th>hispanic</th>\n",
       "      <td>136</td>\n",
       "    </tr>\n",
       "    <tr>\n",
       "      <th>other</th>\n",
       "      <td>14</td>\n",
       "    </tr>\n",
       "    <tr>\n",
       "      <th>white</th>\n",
       "      <td>9538</td>\n",
       "    </tr>\n",
       "    <tr>\n",
       "      <th>...</th>\n",
       "      <th>...</th>\n",
       "      <td>...</td>\n",
       "    </tr>\n",
       "    <tr>\n",
       "      <th rowspan=\"5\" valign=\"top\">23</th>\n",
       "      <th>asian/pacific islander</th>\n",
       "      <td>238</td>\n",
       "    </tr>\n",
       "    <tr>\n",
       "      <th>black</th>\n",
       "      <td>320</td>\n",
       "    </tr>\n",
       "    <tr>\n",
       "      <th>hispanic</th>\n",
       "      <td>144</td>\n",
       "    </tr>\n",
       "    <tr>\n",
       "      <th>other</th>\n",
       "      <td>18</td>\n",
       "    </tr>\n",
       "    <tr>\n",
       "      <th>white</th>\n",
       "      <td>11828</td>\n",
       "    </tr>\n",
       "  </tbody>\n",
       "</table>\n",
       "<p>117 rows × 1 columns</p>\n",
       "</div>"
      ],
      "text/plain": [
       "                             counter\n",
       "hour subject_race                   \n",
       "0    asian/pacific islander      211\n",
       "     black                       357\n",
       "     hispanic                    136\n",
       "     other                        14\n",
       "     white                      9538\n",
       "...                              ...\n",
       "23   asian/pacific islander      238\n",
       "     black                       320\n",
       "     hispanic                    144\n",
       "     other                        18\n",
       "     white                     11828\n",
       "\n",
       "[117 rows x 1 columns]"
      ]
     },
     "execution_count": 137,
     "metadata": {},
     "output_type": "execute_result"
    }
   ],
   "source": [
    "relevant_vermont[['hour', 'subject_race', 'counter']].groupby(['hour', 'subject_race']).sum()"
   ]
  },
  {
   "cell_type": "code",
   "execution_count": null,
   "id": "1f72b4e8-548a-490c-87ca-47052fc12f79",
   "metadata": {},
   "outputs": [],
   "source": []
  }
 ],
 "metadata": {
  "kernelspec": {
   "display_name": "Python 3 (ipykernel)",
   "language": "python",
   "name": "python3"
  },
  "language_info": {
   "codemirror_mode": {
    "name": "ipython",
    "version": 3
   },
   "file_extension": ".py",
   "mimetype": "text/x-python",
   "name": "python",
   "nbconvert_exporter": "python",
   "pygments_lexer": "ipython3",
   "version": "3.12.3"
  }
 },
 "nbformat": 4,
 "nbformat_minor": 5
}

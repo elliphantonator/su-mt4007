{
 "cells": [
  {
   "cell_type": "markdown",
   "id": "86e6e3d7-9ad0-430c-bf6e-a8cc85395548",
   "metadata": {},
   "source": [
    "# What's that smell?"
   ]
  },
  {
   "cell_type": "markdown",
   "id": "a96725bc-e4f6-4636-952c-87e6de7f481f",
   "metadata": {},
   "source": [
    "## Abstract"
   ]
  },
  {
   "cell_type": "markdown",
   "id": "67488ba3-1fba-4718-a251-ca7208243083",
   "metadata": {},
   "source": [
    "In this blog post, the general public will find a few simple visualization of perfumes' main accords and notes. It includes a specific note and its frequency over the years as well as some bar chart races that show perfume trends over the years (cumulative). In addition, one can also find out which perfumers are most rated. In order to achieve these visuals, data cleaning and Python packages Pandas, Seaborn and Bar Chart Race have been utilized. "
   ]
  },
  {
   "cell_type": "markdown",
   "id": "9a7d6662-17c5-4723-8037-46a00b3bbaad",
   "metadata": {},
   "source": [
    "## Introduction"
   ]
  },
  {
   "cell_type": "markdown",
   "id": "03df423a-073b-4715-a16c-85027cb3f093",
   "metadata": {},
   "source": [
    "Remember when you were little and could smell an article of clothing and tell the teacher which classmate had forgotten their jumper? No? Huh, maybe that was just me then. I have always had a sensitive sense of smell so when this project was announced I immediately started looking for a thorough \"Perfume Data Set\" and luckily found one. The goal was then to clean the data and investigate if one of my personal least favorite notes was on the decline. I quickly had my answer and decided to also display - for your viewing pleasure, dear reader - the fragrance trends over the years as well as the top rated perfumers. "
   ]
  },
  {
   "cell_type": "markdown",
   "id": "eb70d224-bf64-42f1-8bcf-5ab5181ed5bd",
   "metadata": {},
   "source": [
    "## Data"
   ]
  },
  {
   "cell_type": "markdown",
   "id": "a98f30b1-1054-48c9-ae65-a1e8d3486839",
   "metadata": {},
   "source": [
    "The data used in this project was scraped from Parfumo.com and can be found on [Kaggle](https://www.kaggle.com/datasets/olgagmiufana1/parfumo-fragrance-dataset?resource=download&select=parfumo_datos.csv). The data set consists of Name, Brand, Release Year, Concentration, Rating Value, Rating Count, Main Accords, Top Notes, Middle Notes, Base Notes, Perfumers and URL. As the data contains a great amount of rows, missing values were simply dropped in subsets of the \"clean\" data frame, the \"clean\" data frame contains null because different aspects were inspected. For example, when looking at notes dropping null values in these columns could result in rows with rating values being dropped too, but I later look at rating values which means I do not mind notes having null values. Furthermore, filling in values in a note column or a rating column would distort the data and since we are looking at trends it would not do us much good. Cleaning the data also included removing a number, release year and brand name from the Name column, dropping some rows without numerical values in the Rating Count column, removing the word \"Ratings\" from the Ratings Count column and turning Rating Count and Rating Value into number data types."
   ]
  },
  {
   "cell_type": "markdown",
   "id": "52813376-111c-476e-98eb-38488e6b8f7b",
   "metadata": {},
   "source": [
    "## Results "
   ]
  },
  {
   "cell_type": "markdown",
   "id": "00b2cfa0-a802-4e5a-9640-d2513f551f21",
   "metadata": {},
   "source": [
    "### Coconut "
   ]
  },
  {
   "cell_type": "markdown",
   "id": "b2f67cb3-fa88-47d3-b12b-c4e9a3e359c0",
   "metadata": {},
   "source": [
    "Coconut - arguably the most nauseating smell available in a bottle. A \"Coconut finding\"-function was defined whose purpose was to return 1 if coconut was found and 0 otherwise. It was applied to the accords and notes columns in a subset of the data (consisting of the Name, Rating Value, Release Year, Main Accords, Top Notes, Middle Notes and Base Notes). The number of perfumes were grouped by release year and summed and a bar plot was made including the years the number of coconut perfumes were greater than zero, see Figure 1. \n",
    "\n",
    "![Coconut Plot](https://raw.githubusercontent.com/elliphantonator/su-mt4007/737d14a84c85899ee40535da113cb280fd84985f/Project/coconut.png)\n",
    "**Figure 1**: A bar chart showing the number of coconut scents released in a given year.\n",
    "\n",
    "And since I cleaned the name column, why not display the top rated coconut perfume per release year, see Figure 2. \n",
    "\n",
    "![Top Coconut Perfumes](https://raw.githubusercontent.com/elliphantonator/su-mt4007/main/Project/highest_rated_coconut.png)\n",
    "\n",
    "**Figure 2**: A data frame table showing the top rated perfume with coconut per year.\n",
    "\n",
    "Judging by Figure 1, it seems that the coconut trend is not dying out anytime soon... rather, it looks like the amount of coconut perfumes is slowly increasing. In Figure 2, we see that the perfumes with coconut happen to be rated quite high, this could be an explanation to why why the amount of coconut scents is not decreasing. "
   ]
  },
  {
   "cell_type": "markdown",
   "id": "101deb05-f6bd-4502-b193-e7ec2ce01f86",
   "metadata": {},
   "source": [
    "### Trends"
   ]
  },
  {
   "cell_type": "markdown",
   "id": "9f915304-92e2-4b34-89b6-5bb1bd27a23c",
   "metadata": {},
   "source": [
    "For the accords and notes, I created new subsets with Release Year and accord/note. The goal was to explode the data frames so that every word had its own row, count the occurrences cumulatively and create bar chart races to clearly see the trends change, see Figures 3, 4, 5 and 6. \n",
    "\n",
    "![Main Accords](https://raw.githubusercontent.com/elliphantonator/su-mt4007/737d14a84c85899ee40535da113cb280fd84985f/Project/Main%20Accords.gif)\n",
    "\n",
    "**Figure 3**: Bar chart race showing trends in main accords.\n",
    "\n",
    "![Top Notes](https://raw.githubusercontent.com/elliphantonator/su-mt4007/737d14a84c85899ee40535da113cb280fd84985f/Project/Top%20Notes.gif)\n",
    "\n",
    "**Figure 4**: Bar chart race showing trends in top notes.\n",
    "\n",
    "![Middle Notes](https://raw.githubusercontent.com/elliphantonator/su-mt4007/737d14a84c85899ee40535da113cb280fd84985f/Project/Middle%20Notes.gif)\n",
    "\n",
    "**Figure 5**: Bar chart race showing trends in middle notes.\n",
    "\n",
    "![Base Notes](https://raw.githubusercontent.com/elliphantonator/su-mt4007/737d14a84c85899ee40535da113cb280fd84985f/Project/Base%20Notes.gif)\n",
    "\n",
    "**Figure 6**: Bar chart race showing trends in base notes.\n",
    "\n",
    "A weakness in these bar chart races is that perfumes that are discontinued are not removed from the cumulative sum. \n",
    "In Figure 3 we note that floral is continuously popular only to be overtaken by sweet in the last decades. Fresh is also an accord which usually visits one of the top spots. \n",
    "In Figure 4 we note that citrus fruits (bergamot, lemon etc.) are the most common top note throughout time. \n",
    "In Figure 5 we note that the flowers rose and jasmine are the most common middle notes throughout time. \n",
    "In Figure 6 we note that the all time favorite base note is musk. \n",
    "As main accords are adjectives somewhat describing a perfume we see that the bar chart races are \"connected\" in an expected way. Since the top ten middle notes contain a lot of flowers, \"floral\" is not too unexpected. Same argument with the word \"fresh\", seeing the citrus top notes. "
   ]
  },
  {
   "cell_type": "markdown",
   "id": "69985cf9-cd66-4adf-a7f2-ed16a3917b19",
   "metadata": {},
   "source": [
    "### Perfumers"
   ]
  },
  {
   "cell_type": "markdown",
   "id": "d8d27b72-ea52-4a28-8de3-580be9256f13",
   "metadata": {},
   "source": [
    "For finding out which perfumers have the most ratings I decided to use a new subset of the data, namely Rating Value, Rating Count and Perfumers. This is because I did not want to lose data because it had been dropped when looking at scent trends. I also decided that a good perfumer had a high value and count but prioritized the count as more ratings make for a more accurate mean. \n",
    "\n",
    "![Perfumers](https://raw.githubusercontent.com/elliphantonator/su-mt4007/737d14a84c85899ee40535da113cb280fd84985f/Project/perfumers.png)\n",
    "\n",
    "**Figure 7**: Scatter plot showing the perfumers with the most ratings and their mean.\n",
    "\n",
    "After observing Figure 7 it seems that the most rated perfumers are relatively close in ranking value which also happens to be quite high, around 7 on a 1-10 scale. This makes sense as a great amount of ratings could mean one has been active for many years and having a long carrier usually means you are good at what you do. \n"
   ]
  }
 ],
 "metadata": {
  "kernelspec": {
   "display_name": "Python 3 (ipykernel)",
   "language": "python",
   "name": "python3"
  },
  "language_info": {
   "codemirror_mode": {
    "name": "ipython",
    "version": 3
   },
   "file_extension": ".py",
   "mimetype": "text/x-python",
   "name": "python",
   "nbconvert_exporter": "python",
   "pygments_lexer": "ipython3",
   "version": "3.12.3"
  }
 },
 "nbformat": 4,
 "nbformat_minor": 5
}

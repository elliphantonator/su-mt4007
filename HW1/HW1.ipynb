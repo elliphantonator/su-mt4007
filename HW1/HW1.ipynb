{
 "cells": [
  {
   "cell_type": "markdown",
   "id": "65f57898-2701-470b-99b1-08b033a05750",
   "metadata": {},
   "source": [
    "# Homework 1"
   ]
  },
  {
   "cell_type": "markdown",
   "id": "50646cd3-91b5-4d87-9ba8-3330281ca3fa",
   "metadata": {},
   "source": [
    "## A brief description of myself"
   ]
  },
  {
   "cell_type": "markdown",
   "id": "8c131573-2d6c-48d7-bc4a-dec3f240d046",
   "metadata": {},
   "source": [
    "My name is Ellinor and I have brown eyes. "
   ]
  },
  {
   "cell_type": "markdown",
   "id": "9a58b087-4c13-4a01-999d-4da009bea59e",
   "metadata": {},
   "source": [
    "## A brief description of my previous experience with Data Science"
   ]
  },
  {
   "cell_type": "markdown",
   "id": "e08b2122-34f8-4922-8d70-4e1296f2c8cd",
   "metadata": {},
   "source": [
    "My previous experience with data science is pretty much non-existent but I have high hopes for this course, both regarding the material and my performance.  "
   ]
  },
  {
   "cell_type": "code",
   "execution_count": null,
   "id": "e55b29e7-a5f4-474d-aff8-0ee269109e64",
   "metadata": {},
   "outputs": [],
   "source": []
  }
 ],
 "metadata": {
  "kernelspec": {
   "display_name": "Python 3 (ipykernel)",
   "language": "python",
   "name": "python3"
  },
  "language_info": {
   "codemirror_mode": {
    "name": "ipython",
    "version": 3
   },
   "file_extension": ".py",
   "mimetype": "text/x-python",
   "name": "python",
   "nbconvert_exporter": "python",
   "pygments_lexer": "ipython3",
   "version": "3.13.0"
  }
 },
 "nbformat": 4,
 "nbformat_minor": 5
}
